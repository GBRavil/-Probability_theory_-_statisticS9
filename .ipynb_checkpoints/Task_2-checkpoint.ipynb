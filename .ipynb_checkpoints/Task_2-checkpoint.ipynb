{
 "cells": [
  {
   "cell_type": "code",
   "execution_count": 1,
   "id": "7036ed8e",
   "metadata": {},
   "outputs": [],
   "source": [
    "import numpy as np\n",
    "def _mse(b, x, y):\n",
    "    return np.sum((b*x-y)**2)/len(x)"
   ]
  },
  {
   "cell_type": "code",
   "execution_count": 3,
   "id": "e53cf622",
   "metadata": {},
   "outputs": [
    {
     "data": {
      "text/plain": [
       "203812.48504"
      ]
     },
     "execution_count": 3,
     "metadata": {},
     "output_type": "execute_result"
    }
   ],
   "source": [
    "# Посчитаем значение для вычесленного нами коэффициента b = 2.62\n",
    "zp = np.array([35, 45, 190, 200, 40, 70, 54, 150, 120, 110])\n",
    "ks = np.array([401, 574, 874, 919, 459, 739, 653, 902, 746, 832])\n",
    "_mse(2.62, zp, ks)"
   ]
  },
  {
   "cell_type": "code",
   "execution_count": 6,
   "id": "aa790a41",
   "metadata": {},
   "outputs": [],
   "source": [
    "# Теперь попробуем подобрать такое значение коэффициента b, при котором MSE > 0, используя свойства производной.\n",
    "# Для этого вычислим производную нашей функции потерь:\n",
    "def _mse_p(b,x,y):\n",
    "    return (2/len(x))*np.sum((b*x-y)*x)"
   ]
  },
  {
   "cell_type": "code",
   "execution_count": 7,
   "id": "9c8a3c2f",
   "metadata": {},
   "outputs": [
    {
     "name": "stdout",
     "output_type": "stream",
     "text": [
      "Итерация #0, b=0.25952808000000005, mse=493237.7212546963\n",
      "Итерация #100, b=5.54537842245223, mse=58151.31823171113\n",
      "Итерация #200, b=5.868748638669329, mse=56522.97550129376\n",
      "Итерация #300, b=5.888531320728348, mse=56516.88130936019\n",
      "Итерация #400, b=5.8897415574471985, mse=56516.85850140053\n",
      "Итерация #500, b=5.889815595583751, mse=56516.858416040064\n",
      "Итерация #600, b=5.889820124983314, mse=56516.85841572062\n",
      "Итерация #628, b=5.889820285147628, mse=56516.85841571966,\n",
      "Достигнут минимум.\n"
     ]
    }
   ],
   "source": [
    "# Так же введем параметр - скорость обучения c помощью которого будем регулировать скорость подбора коэффициента b\n",
    "alpha=1e-06\n",
    "b=0.1\n",
    "mse_min=_mse(b,zp,ks)\n",
    "i_min=1\n",
    "b_min=b\n",
    "for i in range(10000):\n",
    "    b-=alpha*_mse_p(b,zp,ks)\n",
    "    if i%100==0:\n",
    "        print(f'Итерация #{i}, b={b}, mse={_mse(b, zp,ks)}')\n",
    "    if _mse(b,zp,ks)>mse_min:\n",
    "        print(f'Итерация #{i_min}, b={b_min}, mse={mse_min},\\nДостигнут минимум.')\n",
    "        break\n",
    "    else:\n",
    "        mse_min=_mse(b,zp,ks)\n",
    "        i_min=i\n",
    "        b_min=b"
   ]
  },
  {
   "cell_type": "code",
   "execution_count": 8,
   "id": "92a8c461",
   "metadata": {},
   "outputs": [
    {
     "data": {
      "text/plain": [
       "5.889820285147628"
      ]
     },
     "execution_count": 8,
     "metadata": {},
     "output_type": "execute_result"
    }
   ],
   "source": [
    "b_min"
   ]
  }
 ],
 "metadata": {
  "kernelspec": {
   "display_name": "Python 3 (ipykernel)",
   "language": "python",
   "name": "python3"
  },
  "language_info": {
   "codemirror_mode": {
    "name": "ipython",
    "version": 3
   },
   "file_extension": ".py",
   "mimetype": "text/x-python",
   "name": "python",
   "nbconvert_exporter": "python",
   "pygments_lexer": "ipython3",
   "version": "3.9.13"
  }
 },
 "nbformat": 4,
 "nbformat_minor": 5
}
